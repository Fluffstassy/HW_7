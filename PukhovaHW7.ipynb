{
  "nbformat": 4,
  "nbformat_minor": 0,
  "metadata": {
    "colab": {
      "provenance": [],
      "collapsed_sections": [],
      "authorship_tag": "ABX9TyOJNdjSOBt45bGjNVKcVUqB",
      "include_colab_link": true
    },
    "kernelspec": {
      "name": "python3",
      "display_name": "Python 3"
    },
    "language_info": {
      "name": "python"
    }
  },
  "cells": [
    {
      "cell_type": "markdown",
      "metadata": {
        "id": "view-in-github",
        "colab_type": "text"
      },
      "source": [
        "<a href=\"https://colab.research.google.com/github/Fluffstassy/HW_7/blob/main/PukhovaHW7.ipynb\" target=\"_parent\"><img src=\"https://colab.research.google.com/assets/colab-badge.svg\" alt=\"Open In Colab\"/></a>"
      ]
    },
    {
      "cell_type": "markdown",
      "source": [
        "# Домашнее задание к лекции «Понятие класса»"
      ],
      "metadata": {
        "id": "PIxV3LOHGaIi"
      }
    },
    {
      "cell_type": "markdown",
      "source": [
        "# Задание 1\n",
        "Напишите функцию, которая возвращает название валюты (поле ‘Name’) с максимальным значением курса с помощью сервиса www.cbr-xml-daily.ru...ly_json.js"
      ],
      "metadata": {
        "id": "MoYgu-Di1x9-"
      }
    },
    {
      "cell_type": "code",
      "execution_count": null,
      "metadata": {
        "id": "yjV-bL1R1nbg"
      },
      "outputs": [],
      "source": [
        "import requests\n",
        "\n",
        "class Rate:\n",
        "    def __init__(self, format_='value'):\n",
        "        self.format = format_\n",
        "    \n",
        "    def exchange_rates(self):\n",
        "        \"\"\"\n",
        "        Возвращает ответ сервиса с информацией о валютах в виде:\n",
        "        \n",
        "        {\n",
        "            'AMD': {\n",
        "                'CharCode': 'AMD',\n",
        "                'ID': 'R01060',\n",
        "                'Name': 'Армянских драмов',\n",
        "                'Nominal': 100,\n",
        "                'NumCode': '051',\n",
        "                'Previous': 14.103,\n",
        "                'Value': 14.0879\n",
        "                },\n",
        "            ...\n",
        "        }\n",
        "        \"\"\"\n",
        "        self.r = requests.get('https://www.cbr-xml-daily.ru/daily_json.js')\n",
        "        return self.r.json()['Valute']\n",
        "    \n",
        "    def make_format(self, currency):\n",
        "        \"\"\"\n",
        "        Возвращает информацию о валюте currency в двух вариантах:\n",
        "        - полная информация о валюте при self.format = 'full':\n",
        "        Rate('full').make_format('EUR')\n",
        "        {\n",
        "            'CharCode': 'EUR',\n",
        "            'ID': 'R01239',\n",
        "            'Name': 'Евро',\n",
        "            'Nominal': 1,\n",
        "            'NumCode': '978',\n",
        "            'Previous': 79.6765,\n",
        "            'Value': 79.4966\n",
        "        }\n",
        "        \n",
        "        Rate('value').make_format('EUR')\n",
        "        79.4966\n",
        "        \"\"\"\n",
        "        response = self.exchange_rates()\n",
        "        \n",
        "        if currency in response:\n",
        "            if self.format == 'full':\n",
        "                return response[currency]\n",
        "            \n",
        "            if self.format == 'value':\n",
        "                return response[currency]['Value']\n",
        "        \n",
        "        return 'Error'\n",
        "    \n",
        "    def eur(self):\n",
        "        \"\"\"Возвращает курс евро на сегодня в формате self.format\"\"\"\n",
        "        return self.make_format('EUR')\n",
        "    \n",
        "    def usd(self):\n",
        "        \"\"\"Возвращает курс доллара на сегодня в формате self.format\"\"\"\n",
        "        return self.make_format('USD')\n",
        "    \n",
        "    def brl(self):\n",
        "        \"\"\"Возвращает курс бразильского реала на сегодня в формате self.format\"\"\"\n",
        "        return self.make_format('BRL')\n",
        "    \n",
        "    def max_cource(self):\n",
        "        answer = self.exchange_rates()\n",
        "        max_course = 0\n",
        "        for a in answer.values():\n",
        "            value = a['Value']\n",
        "            if max_course <= value:\n",
        "                max_course = value\n",
        "                name = a['Name']\n",
        "        print(name, max_course)"
      ]
    },
    {
      "cell_type": "code",
      "source": [
        "r.max_cource()\n"
      ],
      "metadata": {
        "id": "AQ3vXo2N2aUO"
      },
      "execution_count": null,
      "outputs": []
    },
    {
      "cell_type": "markdown",
      "source": [
        "# Задание 2\n",
        "Добавьте в класс Rate параметр diff (со значениями True или False), который в случае значения True в методах курсов валют (eur, usd итд) будет возвращать не курс валюты, а изменение по сравнению в прошлым значением. Считайте, self.diff будет принимать значение True только при возврате значения курса. При отображении всей информации о валюте он не используется."
      ],
      "metadata": {
        "id": "F5rZEneC-Xi4"
      }
    },
    {
      "cell_type": "code",
      "source": [
        "import requests\n",
        "\n",
        "\n",
        "class Rate:\n",
        "    def __init__(self, format='value',diff=False):\n",
        "        self.format = format\n",
        "        self.diff = diff\n",
        "\n",
        "\n",
        "    def exchange_rates(self):\n",
        "        r = requests.get('https://www.cbr-xml-daily.ru/daily_json.js')\n",
        "        return r.json()['Valute']\n",
        "\n",
        "    def make_format(self, currency):\n",
        "        answer = self.exchange_rates()\n",
        "\n",
        "        if currency in answer:\n",
        "            if self.format == 'full':\n",
        "                return answer[currency]\n",
        "\n",
        "            if self.format == 'value':\n",
        "                if not self.diff:\n",
        "                    return answer[currency]['Value']\n",
        "                else:\n",
        "                    return answer[currency]['Value'] - answer[currency]['Previous']\n",
        "\n",
        "            if self.format == 'currency_name':\n",
        "                return answer[currency]['Name']\n",
        "\n",
        "        return 'Error'\n",
        "\n",
        "    def eur(self):\n",
        "        \"\"\"Возвращает курс евро на сегодня в формате self.format если diff=False, иначе именение курса\"\"\"\n",
        "        return self.make_format('EUR')\n",
        "\n",
        "    def usd(self):\n",
        "        \"\"\"Возвращает курс доллара на сегодня в формате self.format\"\"\"\n",
        "        return self.make_format('USD')\n",
        "\n",
        "\n",
        "print (Rate(format = 'currency_name').make_format('EUR'))\n",
        "print (format(Rate(diff = True).eur()))"
      ],
      "metadata": {
        "id": "J74qx7WF-fre"
      },
      "execution_count": null,
      "outputs": []
    },
    {
      "cell_type": "markdown",
      "source": [
        "# Задание 3\n",
        "  Напишите класс Designer, который учитывает количество международных премий. Подсказки в коде занятия в разделе “Домашнее задание задача 3”.\n",
        "\n",
        "  Комментарий по классу Designer такой:\n",
        "Напишите класс Designer, который учитывает количество международных премий для дизайнеров (из презентации: “Повышение на 1 грейд за каждые 7 баллов. Получение международной премии – это +2 балла”). Считайте, что при выходе на работу сотрудник уже имеет две премии и их количество не меняется со стажем (конечно если хотите это можно вручную менять).\n"
      ],
      "metadata": {
        "id": "EeAHRpT7JeP_"
      }
    },
    {
      "cell_type": "code",
      "source": [
        "class Employee:\n",
        "    def __init__(self, name, seniority, awards):\n",
        "        self.name = name\n",
        "        self.seniority = seniority\n",
        "        self.awards= awards\n",
        "        self.grade = 1\n",
        "\n",
        "    def grade_up(self):\n",
        "        \"\"\"Повышает уровень сотрудника\"\"\"\n",
        "        self.grade += 1\n",
        "    \n",
        "    def publish_grade(self):\n",
        "        \"\"\"Публикация результатов аккредитации сотрудников\"\"\"\n",
        "        print(self.name, self.grade)\n",
        "\n",
        "class Developer(Employee):\n",
        "    def __init__(self, name, seniority, awards = 0):\n",
        "        super().__init__(name, seniority, awards = 0)\n",
        "    \n",
        "    def check_if_it_is_time_for_upgrade(self):\n",
        "        \"\"\" для каждой аккредитации увеличиваем счетчик на 1\n",
        "        пока считаем, что все разработчики проходят аккредитацию\"\"\"\n",
        "        self.seniority += 1\n",
        "        \n",
        "        \"\"\"условие повышения сотрудника из презентации\"\"\"\n",
        "        if self.seniority % 5 == 0:\n",
        "            self.grade_up()\n",
        "        \n",
        "        \"\"\"публикация результатов\"\"\"\n",
        "        return self.publish_grade()\n",
        "\n",
        "class Designer(Employee):\n",
        "    def __init__(self, name, seniority, awards):\n",
        "        super().__init__(name, seniority, awards)\n",
        "        \n",
        "    def check_if_it_is_time_for_upgrade(self):\n",
        "        if self.seniority == 0: \n",
        "            self.seniority = 1 + self.awards * 2\n",
        "        else:\n",
        "            self.seniority += 1\n",
        "        if self.seniority % 7 == 0:\n",
        "                self.grade_up()\n",
        "        \n",
        "        return self.publish_grade()"
      ],
      "metadata": {
        "id": "A0pfeYaHJjOv"
      },
      "execution_count": null,
      "outputs": []
    }
  ]
}